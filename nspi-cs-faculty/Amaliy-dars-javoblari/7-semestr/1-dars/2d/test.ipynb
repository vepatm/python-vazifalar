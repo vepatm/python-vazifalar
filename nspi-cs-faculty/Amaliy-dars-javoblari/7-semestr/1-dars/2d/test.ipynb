{
 "cells": [
  {
   "cell_type": "code",
   "execution_count": 1,
   "metadata": {},
   "outputs": [
    {
     "ename": "ValueError",
     "evalue": "invalid literal for int() with base 10: ''",
     "output_type": "error",
     "traceback": [
      "\u001b[1;31m---------------------------------------------------------------------------\u001b[0m",
      "\u001b[1;31mValueError\u001b[0m                                Traceback (most recent call last)",
      "\u001b[1;32md:\\Python\\GitHubRepos\\python-vazifalar\\nspi-cs-faculty\\Amaliy-dars-javoblari\\7-semestr\\1-dars\\ikki-o'lchamli-massiv\\test.ipynb Cell 1\u001b[0m line \u001b[0;36m4\n\u001b[0;32m      <a href='vscode-notebook-cell:/d%3A/Python/GitHubRepos/python-vazifalar/nspi-cs-faculty/Amaliy-dars-javoblari/7-semestr/1-dars/ikki-o%27lchamli-massiv/test.ipynb#W0sZmlsZQ%3D%3D?line=1'>2</a>\u001b[0m \u001b[39mimport\u001b[39;00m \u001b[39mrandom\u001b[39;00m\n\u001b[0;32m      <a href='vscode-notebook-cell:/d%3A/Python/GitHubRepos/python-vazifalar/nspi-cs-faculty/Amaliy-dars-javoblari/7-semestr/1-dars/ikki-o%27lchamli-massiv/test.ipynb#W0sZmlsZQ%3D%3D?line=2'>3</a>\u001b[0m a \u001b[39m=\u001b[39m []\n\u001b[1;32m----> <a href='vscode-notebook-cell:/d%3A/Python/GitHubRepos/python-vazifalar/nspi-cs-faculty/Amaliy-dars-javoblari/7-semestr/1-dars/ikki-o%27lchamli-massiv/test.ipynb#W0sZmlsZQ%3D%3D?line=3'>4</a>\u001b[0m m \u001b[39m=\u001b[39m \u001b[39mint\u001b[39;49m(\u001b[39minput\u001b[39;49m(\u001b[39m'\u001b[39;49m\u001b[39mn=\u001b[39;49m\u001b[39m'\u001b[39;49m))\n\u001b[0;32m      <a href='vscode-notebook-cell:/d%3A/Python/GitHubRepos/python-vazifalar/nspi-cs-faculty/Amaliy-dars-javoblari/7-semestr/1-dars/ikki-o%27lchamli-massiv/test.ipynb#W0sZmlsZQ%3D%3D?line=4'>5</a>\u001b[0m n \u001b[39m=\u001b[39m \u001b[39mint\u001b[39m(\u001b[39minput\u001b[39m(\u001b[39m'\u001b[39m\u001b[39mm=\u001b[39m\u001b[39m'\u001b[39m))\n\u001b[0;32m      <a href='vscode-notebook-cell:/d%3A/Python/GitHubRepos/python-vazifalar/nspi-cs-faculty/Amaliy-dars-javoblari/7-semestr/1-dars/ikki-o%27lchamli-massiv/test.ipynb#W0sZmlsZQ%3D%3D?line=5'>6</a>\u001b[0m \u001b[39mfor\u001b[39;00m i \u001b[39min\u001b[39;00m \u001b[39mrange\u001b[39m(m):\n",
      "\u001b[1;31mValueError\u001b[0m: invalid literal for int() with base 10: ''"
     ]
    }
   ],
   "source": [
    "import numpy as np\n",
    "import random\n",
    "a = []\n",
    "m = int(input('n='))\n",
    "n = int(input('m='))\n",
    "for i in range(m):\n",
    "    for j in range(n):\n",
    "        e = random.randint(-5,10)\n",
    "        a.append(e)\n",
    "print(a)ss"
   ]
  }
 ],
 "metadata": {
  "kernelspec": {
   "display_name": "Python 3",
   "language": "python",
   "name": "python3"
  },
  "language_info": {
   "codemirror_mode": {
    "name": "ipython",
    "version": 3
   },
   "file_extension": ".py",
   "mimetype": "text/x-python",
   "name": "python",
   "nbconvert_exporter": "python",
   "pygments_lexer": "ipython3",
   "version": "3.12.0"
  }
 },
 "nbformat": 4,
 "nbformat_minor": 2
}
